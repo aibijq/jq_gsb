{
  "cells": [
    {
      "cell_type": "markdown",
      "metadata": {
        "id": "view-in-github",
        "colab_type": "text"
      },
      "source": [
        "<a href=\"https://colab.research.google.com/github/aibijq/skku_gsb/blob/main/%ED%87%B4%EC%A7%81%EC%9E%90%EC%98%88%EC%B8%A1_XGB.ipynb\" target=\"_parent\"><img src=\"https://colab.research.google.com/assets/colab-badge.svg\" alt=\"Open In Colab\"/></a>"
      ]
    },
    {
      "cell_type": "markdown",
      "source": [
        "# 0.Package Load"
      ],
      "metadata": {
        "id": "qLvLuCRQNjFl"
      }
    },
    {
      "cell_type": "code",
      "source": [
        "from google.colab import drive\n",
        "import pandas as pd\n",
        "from sklearn.model_selection import train_test_split\n",
        "from sklearn.metrics import accuracy_score\n",
        "from sklearn.linear_model import LogisticRegression\n",
        "from sklearn.feature_selection import SelectFromModel\n",
        "from sklearn.metrics import confusion_matrix, accuracy_score\n",
        "import xgboost as xgb\n",
        "import seaborn as sns\n",
        "import matplotlib.pyplot as plt"
      ],
      "metadata": {
        "id": "-u8EZWd03Upb"
      },
      "execution_count": 1,
      "outputs": []
    },
    {
      "cell_type": "markdown",
      "source": [
        "# 1.DataLoad & Preprocessing"
      ],
      "metadata": {
        "id": "s3M4dR_rMvJe"
      }
    },
    {
      "cell_type": "code",
      "source": [
        "# Google Drive 마운트\n",
        "drive.mount('/content/drive')\n",
        "path = \"/content/drive/MyDrive/AIMBA\"\n",
        "# CSV 파일 로드\n",
        "file_path = path + \"/HR Attrition Data.csv\"\n",
        "df = pd.read_csv(file_path)"
      ],
      "metadata": {
        "id": "jVizebDHJJvw",
        "outputId": "2452ed2c-677c-4001-aa36-56bdc85c2dfa",
        "colab": {
          "base_uri": "https://localhost:8080/"
        }
      },
      "execution_count": 2,
      "outputs": [
        {
          "output_type": "stream",
          "name": "stdout",
          "text": [
            "Drive already mounted at /content/drive; to attempt to forcibly remount, call drive.mount(\"/content/drive\", force_remount=True).\n"
          ]
        }
      ]
    },
    {
      "cell_type": "code",
      "source": [
        "# 결측치 확인\n",
        "df.isnull().sum()\n",
        "# 전처리\n",
        "df['Attrition'] = df['Attrition'].map({'Yes': 1, 'No': 0})\n",
        "numeric_df = df.select_dtypes(include=['int64', 'float64'])\n",
        "numeric_df\n",
        "# 데이터와 레이블 분리\n",
        "X = numeric_df.drop('Attrition', axis=1)\n",
        "y = numeric_df['Attrition']\n",
        "# 훈련 세트와 테스트 세트로 분할\n",
        "X_train, X_test, y_train, y_test = train_test_split(X, y, test_size=0.2, random_state=42)"
      ],
      "metadata": {
        "id": "7f3l1XnN55oK"
      },
      "execution_count": 3,
      "outputs": []
    },
    {
      "cell_type": "markdown",
      "source": [
        "# 2. Feature Selection"
      ],
      "metadata": {
        "id": "7KO1Zn_vNGox"
      }
    },
    {
      "cell_type": "code",
      "source": [
        "# 로지스틱 회귀 모델생성\n",
        "model = LogisticRegression(solver='liblinear')\n",
        "model.fit(X_train, y_train)\n",
        "\n",
        "# Feature Selection (liblinear)\n",
        "selector = SelectFromModel(estimator=model, prefit=True)\n",
        "X_new = selector.transform(X)\n",
        "\n",
        "# 선택된 Feature 출력\n",
        "selected_features = pd.DataFrame(selector.inverse_transform(X_new),\n",
        "                                 index=X.index,\n",
        "                                 columns=X.columns)\n",
        "selected_columns = selected_features.columns[selected_features.var() != 0]\n",
        "print('Selected features: ', selected_columns)"
      ],
      "metadata": {
        "colab": {
          "base_uri": "https://localhost:8080/"
        },
        "id": "HJDv8ctS3eHs",
        "outputId": "d7662ce1-d37a-41ca-e81a-a1e0c5cb3ccc"
      },
      "execution_count": 4,
      "outputs": [
        {
          "output_type": "stream",
          "name": "stdout",
          "text": [
            "Selected features:  Index(['EnvironmentSatisfaction', 'JobInvolvement', 'JobSatisfaction',\n",
            "       'NumCompaniesWorked', 'StockOptionLevel', 'TrainingTimesLastYear',\n",
            "       'WorkLifeBalance', 'YearsAtCompany', 'YearsInCurrentRole',\n",
            "       'YearsSinceLastPromotion', 'YearsWithCurrManager'],\n",
            "      dtype='object')\n"
          ]
        },
        {
          "output_type": "stream",
          "name": "stderr",
          "text": [
            "/usr/local/lib/python3.10/dist-packages/sklearn/base.py:432: UserWarning: X has feature names, but SelectFromModel was fitted without feature names\n",
            "  warnings.warn(\n"
          ]
        }
      ]
    },
    {
      "cell_type": "markdown",
      "source": [
        "# 3. Modeling (XGB, GridSearch)"
      ],
      "metadata": {
        "id": "wAOB1_v7NLBj"
      }
    },
    {
      "cell_type": "code",
      "source": [
        "from sklearn.model_selection import GridSearchCV\n",
        "from xgboost import XGBClassifier\n",
        "\n",
        "# XGBoost 분류기 생성\n",
        "model = XGBClassifier()\n",
        "\n",
        "# 파라미터 그리드 생성\n",
        "param_grid = {\n",
        "    'max_depth': [3, 4, 5, 6, 7, 8],\n",
        "    'eta': [0.1, 0.2, 0.3, 0.4, 0.5],\n",
        "    'objective': ['binary:logistic']\n",
        "}\n",
        "\n",
        "# GridSearchCV 객체 생성\n",
        "grid_search = GridSearchCV(model, param_grid, cv=5)\n",
        "\n",
        "# GridSearchCV 수행\n",
        "grid_search.fit(X_train, y_train)\n",
        "\n",
        "# 최적의 파라미터 출력\n",
        "print(\"Best parameters: \", grid_search.best_params_)\n",
        "\n",
        "# 최적의 모델 출력\n",
        "print(\"Best model: \", grid_search.best_estimator_)\n",
        "\n",
        "# 최적의 파라미터로 모델 생성\n",
        "best_model = XGBClassifier(**grid_search.best_params_)\n",
        "\n",
        "# 훈련\n",
        "best_model.fit(X_train, y_train)\n",
        "\n",
        "# 예측\n",
        "preds = best_model.predict(X_test)\n",
        "\n",
        "# 예측값을 이진 레이블로 변환\n",
        "preds = [1 if value > 0.5 else 0 for value in preds]"
      ],
      "metadata": {
        "id": "Z-laJX37LXVy",
        "outputId": "99a24454-66d0-4279-ee8e-ed3bdd02214b",
        "colab": {
          "base_uri": "https://localhost:8080/"
        }
      },
      "execution_count": 5,
      "outputs": [
        {
          "output_type": "stream",
          "name": "stdout",
          "text": [
            "Best parameters:  {'eta': 0.1, 'max_depth': 3, 'objective': 'binary:logistic'}\n",
            "Best model:  XGBClassifier(base_score=None, booster=None, callbacks=None,\n",
            "              colsample_bylevel=None, colsample_bynode=None,\n",
            "              colsample_bytree=None, device=None, early_stopping_rounds=None,\n",
            "              enable_categorical=False, eta=0.1, eval_metric=None,\n",
            "              feature_types=None, gamma=None, grow_policy=None,\n",
            "              importance_type=None, interaction_constraints=None,\n",
            "              learning_rate=None, max_bin=None, max_cat_threshold=None,\n",
            "              max_cat_to_onehot=None, max_delta_step=None, max_depth=3,\n",
            "              max_leaves=None, min_child_weight=None, missing=nan,\n",
            "              monotone_constraints=None, multi_strategy=None, n_estimators=None,\n",
            "              n_jobs=None, num_parallel_tree=None, ...)\n"
          ]
        }
      ]
    },
    {
      "cell_type": "markdown",
      "source": [
        "# 4.Evaluation"
      ],
      "metadata": {
        "id": "1ndteQDiNzdP"
      }
    },
    {
      "cell_type": "code",
      "source": [
        "\n",
        "# Confusion Matrix 생성\n",
        "cm = confusion_matrix(y_test, preds)\n",
        "\n",
        "# 정확도 계산\n",
        "accuracy = accuracy_score(y_test, preds)\n",
        "\n",
        "# Confusion Matrix 시각화\n",
        "plt.figure(figsize=(5,5))\n",
        "sns.heatmap(cm, annot=True, fmt='d')\n",
        "plt.xlabel('Predicted')\n",
        "plt.ylabel('Truth')\n",
        "\n",
        "plt.show()\n",
        "print(\"\\nAccuracy: %.2f%%\" % (accuracy * 100.0))"
      ],
      "metadata": {
        "id": "ckHAeX-pHi4Y",
        "outputId": "2b69da9b-2e90-4c07-a315-692b04414900",
        "colab": {
          "base_uri": "https://localhost:8080/",
          "height": 501
        }
      },
      "execution_count": 6,
      "outputs": [
        {
          "output_type": "display_data",
          "data": {
            "text/plain": [
              "<Figure size 500x500 with 2 Axes>"
            ],
            "image/png": "[encoded data removed]"
          },
          "metadata": {}
        },
        {
          "output_type": "stream",
          "name": "stdout",
          "text": [
            "\n",
            "Accuracy: 86.73%\n"
          ]
        }
      ]
    }
  ],
  "metadata": {
    "colab": {
      "name": "scratchpad",
      "provenance": [],
      "include_colab_link": true
    },
    "kernelspec": {
      "display_name": "Python 3",
      "name": "python3"
    }
  },
  "nbformat": 4,
  "nbformat_minor": 0
}